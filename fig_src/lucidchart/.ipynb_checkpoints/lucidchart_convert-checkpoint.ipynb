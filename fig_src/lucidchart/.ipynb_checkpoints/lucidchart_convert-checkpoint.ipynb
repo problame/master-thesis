{
 "cells": [
  {
   "cell_type": "code",
   "execution_count": 1,
   "metadata": {},
   "outputs": [],
   "source": [
    "from zipfile import ZipFile\n",
    "from pathlib import Path\n",
    "import shutil\n",
    "import subprocess\n",
    "import os"
   ]
  },
  {
   "cell_type": "code",
   "execution_count": 2,
   "metadata": {},
   "outputs": [],
   "source": [
    "names_in_page_order = [\n",
    "    \"prb_chunk_ownership_cycle__transitions\",\n",
    "    \"prb_hdl_log_structure_example\",\n",
    "    \"prb_hdl_runtime_states\",\n",
    "    \"zil_writepath_and_replay_sequence_logical_level\",\n",
    "    \"prb_writepath_crashconsistent_append\",\n",
    "    \"prb_persistent_structure__chunklayout\",\n",
    "    \"prb_chunk_ownership_cycle__example\",\n",
    "    \"prb_counters_table__computation_and_encoding\",\n",
    "    \"prb_counters_table__example\",\n",
    "    \"zilpmem_architecture_overview\",\n",
    "    \"zil_lwb_latency_analysis__breakdown\",\n",
    "    \"zil_lwb__physical_structure_append\",\n",
    "    \"zil_lwb__physical_structure_overview\",\n",
    "]"
   ]
  },
  {
   "cell_type": "code",
   "execution_count": 3,
   "metadata": {},
   "outputs": [],
   "source": [
    "def process_lucidchart_zip(zip_path, format, outdir, overwrite=False):\n",
    "\n",
    "    if outdir.exists():\n",
    "        if overwrite:\n",
    "            shutil.rmtree(outdir)\n",
    "        else:\n",
    "            raise Exception(f\"outdir={outdir} must not exist\")\n",
    "    \n",
    "    outdir.mkdir()\n",
    "\n",
    "    with ZipFile(zip_path, 'r') as zf:\n",
    "        \n",
    "        namemap = {f\"Page {idx+1}.{format}\": name for idx, name in enumerate(names_in_page_order)}\n",
    "\n",
    "        # ensure 1:1 mapping\n",
    "        exist_pages = set(zf.namelist())\n",
    "        desired_pages = set(namemap.keys())\n",
    "        if exist_pages != desired_pages:\n",
    "            raise Exception(f\"\"\"unexpected content in zip file\n",
    "            exist_pages={exist_pages}\n",
    "            desired_pages={desired_pages}\n",
    "            exist - desired={exist_pages - desired_pages}\n",
    "            desired - exist={desired_pages - exist_pages}\n",
    "            \"\"\")\n",
    "\n",
    "        paths = []\n",
    "        for ep in exist_pages:\n",
    "            dest_name = namemap[ep]\n",
    "            dest_path = outdir / f\"{dest_name}.{format}\"\n",
    "            dest_path.write_bytes(zf.open(ep).read())\n",
    "            paths += [dest_path]\n",
    "        return paths\n",
    "\n",
    "def process_lucidchart_allpages_pdf(pdf_path, outdir, overwrite=False):\n",
    "    \n",
    "    if not Path(pdf_path).is_file():\n",
    "        raise Exception(f\"{pdf_path} must be a regular file\")\n",
    "        \n",
    "    if outdir.exists():\n",
    "        if overwrite:\n",
    "            shutil.rmtree(outdir)\n",
    "        else:\n",
    "            raise Exception(f\"outdir={outdir} must not exist\")\n",
    "    \n",
    "    outdir.mkdir()\n",
    "    \n",
    "    pdfpages_dir = outdir / \"tmp\"\n",
    "    \n",
    "    pdfpages_dir.mkdir()\n",
    "    \n",
    "    subprocess.run([\"pdfseparate\", os.path.relpath(pdf_path, pdfpages_dir), 'Page %d.pdf'], cwd=pdfpages_dir, check=True)\n",
    "    \n",
    "    zip_path = outdir / \"tmp.zip\"\n",
    "    with ZipFile(zip_path, mode='w') as pdfpages_zip:\n",
    "        for page in pdfpages_dir.iterdir():\n",
    "            pdfpages_zip.write(page, arcname=page.name)\n",
    "            \n",
    "    tmpout = outdir / \"tmp_out\"\n",
    "    tmppaths = process_lucidchart_zip(zip_path, 'pdf', tmpout, overwrite=True)\n",
    "    \n",
    "    shutil.rmtree(pdfpages_dir)\n",
    "    zip_path.unlink()\n",
    "    \n",
    "    paths = []\n",
    "    for p in tmppaths:\n",
    "        dstpath = outdir /  p.name\n",
    "        p.rename(dstpath)\n",
    "        paths += [dstpath]\n",
    "    \n",
    "    tmpout.rmdir() # should be empty by now\n",
    "    \n",
    "    return paths"
   ]
  },
  {
   "cell_type": "code",
   "execution_count": 4,
   "metadata": {},
   "outputs": [
    {
     "data": {
      "text/plain": [
       "[PosixPath('out/pdf/zil_lwb__physical_structure_append.pdf'),\n",
       " PosixPath('out/pdf/prb_hdl_runtime_states.pdf'),\n",
       " PosixPath('out/pdf/prb_counters_table__computation_and_encoding.pdf'),\n",
       " PosixPath('out/pdf/prb_counters_table__example.pdf'),\n",
       " PosixPath('out/pdf/prb_writepath_crashconsistent_append.pdf'),\n",
       " PosixPath('out/pdf/prb_chunk_ownership_cycle__example.pdf'),\n",
       " PosixPath('out/pdf/zilpmem_architecture_overview.pdf'),\n",
       " PosixPath('out/pdf/zil_lwb__physical_structure_overview.pdf'),\n",
       " PosixPath('out/pdf/zil_lwb_latency_analysis__breakdown.pdf'),\n",
       " PosixPath('out/pdf/prb_chunk_ownership_cycle__transitions.pdf'),\n",
       " PosixPath('out/pdf/prb_hdl_log_structure_example.pdf'),\n",
       " PosixPath('out/pdf/prb_persistent_structure__chunklayout.pdf'),\n",
       " PosixPath('out/pdf/zil_writepath_and_replay_sequence_logical_level.pdf')]"
      ]
     },
     "execution_count": 4,
     "metadata": {},
     "output_type": "execute_result"
    }
   ],
   "source": [
    "outdir = Path(\"./out\")\n",
    "if outdir.is_dir():\n",
    "    shutil.rmtree(outdir)\n",
    "outdir.mkdir()\n",
    "\n",
    "process_lucidchart_zip('export_svg_transparent_background_all_pages_crop_to_content.zip', 'svg', outdir / \"svg\")\n",
    "process_lucidchart_zip('export_png_transparent_background_all_pages_crop_to_content_print_quality.zip', 'png', outdir / \"png\")\n",
    "process_lucidchart_allpages_pdf('export_pdf_all_pages_crop_to_content.pdf', outdir / \"pdf\")\n"
   ]
  }
 ],
 "metadata": {
  "kernelspec": {
   "display_name": "Python 3",
   "language": "python",
   "name": "python3"
  },
  "language_info": {
   "codemirror_mode": {
    "name": "ipython",
    "version": 3
   },
   "file_extension": ".py",
   "mimetype": "text/x-python",
   "name": "python",
   "nbconvert_exporter": "python",
   "pygments_lexer": "ipython3",
   "version": "3.9.2"
  }
 },
 "nbformat": 4,
 "nbformat_minor": 4
}
